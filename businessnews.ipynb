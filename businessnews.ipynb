{
  "nbformat": 4,
  "nbformat_minor": 0,
  "metadata": {
    "colab": {
      "provenance": []
    },
    "kernelspec": {
      "name": "python3",
      "display_name": "Python 3"
    },
    "language_info": {
      "name": "python"
    }
  },
  "cells": [
    {
      "cell_type": "code",
      "execution_count": null,
      "metadata": {
        "colab": {
          "base_uri": "https://localhost:8080/"
        },
        "id": "rkyT1-h5uvsg",
        "outputId": "3b6cb06f-80eb-4aed-fef4-d903fc7a26fa"
      },
      "outputs": [
        {
          "output_type": "stream",
          "name": "stdout",
          "text": [
            "Collecting scrapy\n",
            "  Downloading Scrapy-2.11.1-py2.py3-none-any.whl (287 kB)\n",
            "\u001b[?25l     \u001b[90m━━━━━━━━━━━━━━━━━━━━━━━━━━━━━━━━━━━━━━━━\u001b[0m \u001b[32m0.0/287.8 kB\u001b[0m \u001b[31m?\u001b[0m eta \u001b[36m-:--:--\u001b[0m\r\u001b[2K     \u001b[91m━━━━━━━━━━━━━━━━━━━━━━━━━━━━━━━━━━━━━━━\u001b[0m\u001b[91m╸\u001b[0m \u001b[32m286.7/287.8 kB\u001b[0m \u001b[31m10.5 MB/s\u001b[0m eta \u001b[36m0:00:01\u001b[0m\r\u001b[2K     \u001b[90m━━━━━━━━━━━━━━━━━━━━━━━━━━━━━━━━━━━━━━━━\u001b[0m \u001b[32m287.8/287.8 kB\u001b[0m \u001b[31m7.8 MB/s\u001b[0m eta \u001b[36m0:00:00\u001b[0m\n",
            "\u001b[?25hCollecting Twisted>=18.9.0 (from scrapy)\n",
            "  Downloading twisted-23.10.0-py3-none-any.whl (3.2 MB)\n",
            "\u001b[2K     \u001b[90m━━━━━━━━━━━━━━━━━━━━━━━━━━━━━━━━━━━━━━━━\u001b[0m \u001b[32m3.2/3.2 MB\u001b[0m \u001b[31m78.0 MB/s\u001b[0m eta \u001b[36m0:00:00\u001b[0m\n",
            "\u001b[?25hRequirement already satisfied: cryptography>=36.0.0 in /usr/local/lib/python3.10/dist-packages (from scrapy) (42.0.2)\n",
            "Collecting cssselect>=0.9.1 (from scrapy)\n",
            "  Downloading cssselect-1.2.0-py2.py3-none-any.whl (18 kB)\n",
            "Collecting itemloaders>=1.0.1 (from scrapy)\n",
            "  Downloading itemloaders-1.1.0-py3-none-any.whl (11 kB)\n",
            "Collecting parsel>=1.5.0 (from scrapy)\n",
            "  Downloading parsel-1.8.1-py2.py3-none-any.whl (17 kB)\n",
            "Requirement already satisfied: pyOpenSSL>=21.0.0 in /usr/local/lib/python3.10/dist-packages (from scrapy) (24.0.0)\n",
            "Collecting queuelib>=1.4.2 (from scrapy)\n",
            "  Downloading queuelib-1.6.2-py2.py3-none-any.whl (13 kB)\n",
            "Collecting service-identity>=18.1.0 (from scrapy)\n",
            "  Downloading service_identity-24.1.0-py3-none-any.whl (12 kB)\n",
            "Collecting w3lib>=1.17.0 (from scrapy)\n",
            "  Downloading w3lib-2.1.2-py3-none-any.whl (21 kB)\n",
            "Collecting zope.interface>=5.1.0 (from scrapy)\n",
            "  Downloading zope.interface-6.2-cp310-cp310-manylinux_2_5_x86_64.manylinux1_x86_64.manylinux_2_17_x86_64.manylinux2014_x86_64.whl (247 kB)\n",
            "\u001b[2K     \u001b[90m━━━━━━━━━━━━━━━━━━━━━━━━━━━━━━━━━━━━━━━━\u001b[0m \u001b[32m247.3/247.3 kB\u001b[0m \u001b[31m29.3 MB/s\u001b[0m eta \u001b[36m0:00:00\u001b[0m\n",
            "\u001b[?25hCollecting protego>=0.1.15 (from scrapy)\n",
            "  Downloading Protego-0.3.0-py2.py3-none-any.whl (8.5 kB)\n",
            "Collecting itemadapter>=0.1.0 (from scrapy)\n",
            "  Downloading itemadapter-0.8.0-py3-none-any.whl (11 kB)\n",
            "Requirement already satisfied: setuptools in /usr/local/lib/python3.10/dist-packages (from scrapy) (67.7.2)\n",
            "Requirement already satisfied: packaging in /usr/local/lib/python3.10/dist-packages (from scrapy) (23.2)\n",
            "Collecting tldextract (from scrapy)\n",
            "  Downloading tldextract-5.1.1-py3-none-any.whl (97 kB)\n",
            "\u001b[2K     \u001b[90m━━━━━━━━━━━━━━━━━━━━━━━━━━━━━━━━━━━━━━━━\u001b[0m \u001b[32m97.7/97.7 kB\u001b[0m \u001b[31m12.5 MB/s\u001b[0m eta \u001b[36m0:00:00\u001b[0m\n",
            "\u001b[?25hRequirement already satisfied: lxml>=4.4.1 in /usr/local/lib/python3.10/dist-packages (from scrapy) (4.9.4)\n",
            "Collecting PyDispatcher>=2.0.5 (from scrapy)\n",
            "  Downloading PyDispatcher-2.0.7-py3-none-any.whl (12 kB)\n",
            "Requirement already satisfied: cffi>=1.12 in /usr/local/lib/python3.10/dist-packages (from cryptography>=36.0.0->scrapy) (1.16.0)\n",
            "Collecting jmespath>=0.9.5 (from itemloaders>=1.0.1->scrapy)\n",
            "  Downloading jmespath-1.0.1-py3-none-any.whl (20 kB)\n",
            "Requirement already satisfied: attrs>=19.1.0 in /usr/local/lib/python3.10/dist-packages (from service-identity>=18.1.0->scrapy) (23.2.0)\n",
            "Requirement already satisfied: pyasn1 in /usr/local/lib/python3.10/dist-packages (from service-identity>=18.1.0->scrapy) (0.5.1)\n",
            "Requirement already satisfied: pyasn1-modules in /usr/local/lib/python3.10/dist-packages (from service-identity>=18.1.0->scrapy) (0.3.0)\n",
            "Collecting automat>=0.8.0 (from Twisted>=18.9.0->scrapy)\n",
            "  Downloading Automat-22.10.0-py2.py3-none-any.whl (26 kB)\n",
            "Collecting constantly>=15.1 (from Twisted>=18.9.0->scrapy)\n",
            "  Downloading constantly-23.10.4-py3-none-any.whl (13 kB)\n",
            "Collecting hyperlink>=17.1.1 (from Twisted>=18.9.0->scrapy)\n",
            "  Downloading hyperlink-21.0.0-py2.py3-none-any.whl (74 kB)\n",
            "\u001b[2K     \u001b[90m━━━━━━━━━━━━━━━━━━━━━━━━━━━━━━━━━━━━━━━━\u001b[0m \u001b[32m74.6/74.6 kB\u001b[0m \u001b[31m10.6 MB/s\u001b[0m eta \u001b[36m0:00:00\u001b[0m\n",
            "\u001b[?25hCollecting incremental>=22.10.0 (from Twisted>=18.9.0->scrapy)\n",
            "  Downloading incremental-22.10.0-py2.py3-none-any.whl (16 kB)\n",
            "Requirement already satisfied: typing-extensions>=4.2.0 in /usr/local/lib/python3.10/dist-packages (from Twisted>=18.9.0->scrapy) (4.9.0)\n",
            "Requirement already satisfied: idna in /usr/local/lib/python3.10/dist-packages (from tldextract->scrapy) (3.6)\n",
            "Requirement already satisfied: requests>=2.1.0 in /usr/local/lib/python3.10/dist-packages (from tldextract->scrapy) (2.31.0)\n",
            "Collecting requests-file>=1.4 (from tldextract->scrapy)\n",
            "  Downloading requests_file-2.0.0-py2.py3-none-any.whl (4.2 kB)\n",
            "Requirement already satisfied: filelock>=3.0.8 in /usr/local/lib/python3.10/dist-packages (from tldextract->scrapy) (3.13.1)\n",
            "Requirement already satisfied: six in /usr/local/lib/python3.10/dist-packages (from automat>=0.8.0->Twisted>=18.9.0->scrapy) (1.16.0)\n",
            "Requirement already satisfied: pycparser in /usr/local/lib/python3.10/dist-packages (from cffi>=1.12->cryptography>=36.0.0->scrapy) (2.21)\n",
            "Requirement already satisfied: charset-normalizer<4,>=2 in /usr/local/lib/python3.10/dist-packages (from requests>=2.1.0->tldextract->scrapy) (3.3.2)\n",
            "Requirement already satisfied: urllib3<3,>=1.21.1 in /usr/local/lib/python3.10/dist-packages (from requests>=2.1.0->tldextract->scrapy) (2.0.7)\n",
            "Requirement already satisfied: certifi>=2017.4.17 in /usr/local/lib/python3.10/dist-packages (from requests>=2.1.0->tldextract->scrapy) (2024.2.2)\n",
            "Installing collected packages: PyDispatcher, incremental, zope.interface, w3lib, queuelib, protego, jmespath, itemadapter, hyperlink, cssselect, constantly, automat, Twisted, requests-file, parsel, tldextract, service-identity, itemloaders, scrapy\n",
            "Successfully installed PyDispatcher-2.0.7 Twisted-23.10.0 automat-22.10.0 constantly-23.10.4 cssselect-1.2.0 hyperlink-21.0.0 incremental-22.10.0 itemadapter-0.8.0 itemloaders-1.1.0 jmespath-1.0.1 parsel-1.8.1 protego-0.3.0 queuelib-1.6.2 requests-file-2.0.0 scrapy-2.11.1 service-identity-24.1.0 tldextract-5.1.1 w3lib-2.1.2 zope.interface-6.2\n"
          ]
        }
      ],
      "source": [
        "!pip install scrapy"
      ]
    },
    {
      "cell_type": "code",
      "source": [
        "!scrapy startproject business"
      ],
      "metadata": {
        "colab": {
          "base_uri": "https://localhost:8080/"
        },
        "id": "56WKwcYBu5SS",
        "outputId": "ab124a78-b562-434f-d6d0-a9525d86df77"
      },
      "execution_count": null,
      "outputs": [
        {
          "output_type": "stream",
          "name": "stdout",
          "text": [
            "New Scrapy project 'business', using template directory '/usr/local/lib/python3.10/dist-packages/scrapy/templates/project', created in:\n",
            "    /content/business\n",
            "\n",
            "You can start your first spider with:\n",
            "    cd business\n",
            "    scrapy genspider example example.com\n"
          ]
        }
      ]
    },
    {
      "cell_type": "code",
      "source": [
        "%cd /content/business/business/spiders"
      ],
      "metadata": {
        "colab": {
          "base_uri": "https://localhost:8080/"
        },
        "id": "7kU12dycvCPd",
        "outputId": "f5e90b08-1163-4782-ef87-31317ab4ba7f"
      },
      "execution_count": null,
      "outputs": [
        {
          "output_type": "stream",
          "name": "stdout",
          "text": [
            "/content/business/business/spiders\n"
          ]
        }
      ]
    },
    {
      "cell_type": "code",
      "source": [
        "!scrapy genspider businessnews https://www.businessnews.com.tn/dernieres-news"
      ],
      "metadata": {
        "colab": {
          "base_uri": "https://localhost:8080/"
        },
        "id": "r1_J5mLVvThg",
        "outputId": "b2cc5128-89e6-4d3a-d119-2fa8b8820f0a"
      },
      "execution_count": null,
      "outputs": [
        {
          "output_type": "stream",
          "name": "stdout",
          "text": [
            "Created spider 'businessnews' using template 'basic' in module:\n",
            "  business.spiders.businessnews\n"
          ]
        }
      ]
    },
    {
      "cell_type": "code",
      "source": [
        "%%writefile businessnews.py\n",
        "import scrapy\n",
        "\n",
        "\n",
        "class BusinessnewsSpider(scrapy.Spider):\n",
        "    name = \"businessnews\"\n",
        "    allowed_domains = [\"www.businessnews.com.tn\"]\n",
        "    start_urls = [\"https://www.businessnews.com.tn/dernieres-news\"]\n",
        "\n",
        "    def parse(self, response):\n",
        "        news=response.css('div.contBlockArticleliste')\n",
        "        for n in news :\n",
        "          yield{\n",
        "                'titel' : n.css('div a::text').get(),\n",
        "                'url' : n.css('div a').attrib['href'],\n",
        "                'description' :n.css('div div div::text').get(),\n",
        "                'date' : n.css('div.heureArticle.fas.fa-calendar::text').get(),\n",
        "                  }\n",
        "\n"
      ],
      "metadata": {
        "colab": {
          "base_uri": "https://localhost:8080/"
        },
        "id": "mjUdhZ8hvexE",
        "outputId": "015dd4d4-cb29-4337-c982-86e261349c7a"
      },
      "execution_count": null,
      "outputs": [
        {
          "output_type": "stream",
          "name": "stdout",
          "text": [
            "Overwriting businessnews.py\n"
          ]
        }
      ]
    },
    {
      "cell_type": "code",
      "source": [
        "!scrapy crawl businessnews O worlddata.json"
      ],
      "metadata": {
        "colab": {
          "base_uri": "https://localhost:8080/"
        },
        "id": "JlZOrgxlwxs8",
        "outputId": "41958fd9-b807-4745-e6d6-69a697903c2e"
      },
      "execution_count": null,
      "outputs": [
        {
          "output_type": "stream",
          "name": "stdout",
          "text": [
            "2024-02-20 00:14:03 [scrapy.utils.log] INFO: Scrapy 2.11.1 started (bot: business)\n",
            "2024-02-20 00:14:03 [scrapy.utils.log] INFO: Versions: lxml 4.9.4.0, libxml2 2.10.3, cssselect 1.2.0, parsel 1.8.1, w3lib 2.1.2, Twisted 23.10.0, Python 3.10.12 (main, Nov 20 2023, 15:14:05) [GCC 11.4.0], pyOpenSSL 24.0.0 (OpenSSL 3.2.1 30 Jan 2024), cryptography 42.0.2, Platform Linux-6.1.58+-x86_64-with-glibc2.35\n",
            "2024-02-20 00:14:03 [scrapy.addons] INFO: Enabled addons:\n",
            "[]\n",
            "2024-02-20 00:14:03 [asyncio] DEBUG: Using selector: EpollSelector\n",
            "2024-02-20 00:14:03 [scrapy.utils.log] DEBUG: Using reactor: twisted.internet.asyncioreactor.AsyncioSelectorReactor\n",
            "2024-02-20 00:14:03 [scrapy.utils.log] DEBUG: Using asyncio event loop: asyncio.unix_events._UnixSelectorEventLoop\n",
            "2024-02-20 00:14:04 [scrapy.extensions.telnet] INFO: Telnet Password: 33cbb6ca65e49233\n",
            "2024-02-20 00:14:04 [scrapy.middleware] INFO: Enabled extensions:\n",
            "['scrapy.extensions.corestats.CoreStats',\n",
            " 'scrapy.extensions.telnet.TelnetConsole',\n",
            " 'scrapy.extensions.memusage.MemoryUsage',\n",
            " 'scrapy.extensions.logstats.LogStats']\n",
            "2024-02-20 00:14:04 [scrapy.crawler] INFO: Overridden settings:\n",
            "{'BOT_NAME': 'business',\n",
            " 'FEED_EXPORT_ENCODING': 'utf-8',\n",
            " 'NEWSPIDER_MODULE': 'business.spiders',\n",
            " 'REQUEST_FINGERPRINTER_IMPLEMENTATION': '2.7',\n",
            " 'ROBOTSTXT_OBEY': True,\n",
            " 'SPIDER_MODULES': ['business.spiders'],\n",
            " 'TWISTED_REACTOR': 'twisted.internet.asyncioreactor.AsyncioSelectorReactor'}\n",
            "2024-02-20 00:14:04 [scrapy.middleware] INFO: Enabled downloader middlewares:\n",
            "['scrapy.downloadermiddlewares.robotstxt.RobotsTxtMiddleware',\n",
            " 'scrapy.downloadermiddlewares.httpauth.HttpAuthMiddleware',\n",
            " 'scrapy.downloadermiddlewares.downloadtimeout.DownloadTimeoutMiddleware',\n",
            " 'scrapy.downloadermiddlewares.defaultheaders.DefaultHeadersMiddleware',\n",
            " 'scrapy.downloadermiddlewares.useragent.UserAgentMiddleware',\n",
            " 'scrapy.downloadermiddlewares.retry.RetryMiddleware',\n",
            " 'scrapy.downloadermiddlewares.redirect.MetaRefreshMiddleware',\n",
            " 'scrapy.downloadermiddlewares.httpcompression.HttpCompressionMiddleware',\n",
            " 'scrapy.downloadermiddlewares.redirect.RedirectMiddleware',\n",
            " 'scrapy.downloadermiddlewares.cookies.CookiesMiddleware',\n",
            " 'scrapy.downloadermiddlewares.httpproxy.HttpProxyMiddleware',\n",
            " 'scrapy.downloadermiddlewares.stats.DownloaderStats']\n",
            "2024-02-20 00:14:04 [scrapy.middleware] INFO: Enabled spider middlewares:\n",
            "['scrapy.spidermiddlewares.httperror.HttpErrorMiddleware',\n",
            " 'scrapy.spidermiddlewares.offsite.OffsiteMiddleware',\n",
            " 'scrapy.spidermiddlewares.referer.RefererMiddleware',\n",
            " 'scrapy.spidermiddlewares.urllength.UrlLengthMiddleware',\n",
            " 'scrapy.spidermiddlewares.depth.DepthMiddleware']\n",
            "2024-02-20 00:14:04 [scrapy.middleware] INFO: Enabled item pipelines:\n",
            "[]\n",
            "2024-02-20 00:14:04 [scrapy.core.engine] INFO: Spider opened\n",
            "2024-02-20 00:14:04 [scrapy.extensions.logstats] INFO: Crawled 0 pages (at 0 pages/min), scraped 0 items (at 0 items/min)\n",
            "2024-02-20 00:14:04 [scrapy.extensions.telnet] INFO: Telnet console listening on 127.0.0.1:6023\n",
            "2024-02-20 00:14:05 [scrapy.core.engine] DEBUG: Crawled (200) <GET https://www.businessnews.com.tn/robots.txt> (referer: None)\n",
            "2024-02-20 00:14:05 [scrapy.core.engine] DEBUG: Crawled (200) <GET https://www.businessnews.com.tn/dernieres-news> (referer: None)\n",
            "2024-02-20 00:14:05 [scrapy.core.scraper] DEBUG: Scraped from <200 https://www.businessnews.com.tn/dernieres-news>\n",
            "{'titel': '\\r\\n                                    ', 'url': 'kais-saied-berd-raed-ghannoui-medicaments-les-5-infos-de-la-journee,520,135804,3', 'description': '\\r\\n                                        récapitulatif \\r\\n                                    ', 'date': '19/02/2024 '}\n",
            "2024-02-20 00:14:05 [scrapy.core.scraper] DEBUG: Scraped from <200 https://www.businessnews.com.tn/dernieres-news>\n",
            "{'titel': '\\r\\n                                    ', 'url': 'arrestation-dun-dangereux-terroriste-a-kasserine,520,135803,3', 'description': \"\\r\\n                                        Les unités de la direction de lutte contre le terrorisme, en coordination avec l'unité spécialisée de la Garde nationale et les unités spéciales de l'armée nationale, ont réussi à arrêter un dangereux élément terroriste à la suite d'une embuscade mise en place alors qu'il se déplaçait à moto sur l'une des voies menant aux abris des éléments terroristes dans les montagnes de Kasserine.    \\r\\n                                    \", 'date': '19/02/2024 '}\n",
            "2024-02-20 00:14:05 [scrapy.core.scraper] DEBUG: Scraped from <200 https://www.businessnews.com.tn/dernieres-news>\n",
            "{'titel': '\\r\\n                                    ', 'url': 'kais-saied-plaide-pour-un-nouveau-cadre-legal-mettant-un-terme-a-la-sous-traitance,520,135802,3', 'description': '\\r\\n                                        Le président de la République, Kaïs Saïed, a reçu, lundi 19 février 2024, le chef du gouvernement Ahmed Hachani, au palais de Carthage.    \\r\\n                                    ', 'date': '19/02/2024 '}\n",
            "2024-02-20 00:14:05 [scrapy.core.scraper] DEBUG: Scraped from <200 https://www.businessnews.com.tn/dernieres-news>\n",
            "{'titel': '\\r\\n                                    ', 'url': 'le-bresil--rappelle-son-ambassadeur-en-israel,520,135801,3', 'description': \"\\r\\n                                         « ce qui se passe dans la bande de Gaza avec le peuple palestinien n'a pas de parallèle dans d'autres périodes de l'Histoire \\r\\n                                    \", 'date': '19/02/2024 '}\n",
            "2024-02-20 00:14:05 [scrapy.core.scraper] DEBUG: Scraped from <200 https://www.businessnews.com.tn/dernieres-news>\n",
            "{'titel': '\\r\\n                                    ', 'url': 'kais-saied-recoit-la-presidente-de-la-berd,520,135800,3', 'description': '\\r\\n                                        Le président de la République, Kaïs Saïed, a reçu, lundi 19 février 2024, la présidente de la Banque européenne pour la reconstruction et le développement (Berd), Odile Renaud-Basso, au palais de Carthage.    \\r\\n                                    ', 'date': '19/02/2024 '}\n",
            "2024-02-20 00:14:05 [scrapy.core.scraper] DEBUG: Scraped from <200 https://www.businessnews.com.tn/dernieres-news>\n",
            "{'titel': None, 'url': 'elections-de-la-ftf--une-seule-liste-acceptee-les-deux-autres-ajournees,520,135799,3', 'description': '\\r\\n                                        Le comité électoral indépendant de la Fédération tunisienne de football (FTF), réuni lundi 19 février 2024, a validé la liste du candidat Maher Ben Aissa pour sa conformité à l’ensemble des dispositions juridiques requises.    \\r\\n                                    ', 'date': '19/02/2024 '}\n",
            "2024-02-20 00:14:05 [scrapy.core.scraper] DEBUG: Scraped from <200 https://www.businessnews.com.tn/dernieres-news>\n",
            "{'titel': None, 'url': 'meteo-tunisie--pluies-eparses-dans-la-region-du-sahel,520,135798,3', 'description': '\\r\\n                                        L’Institut national de la météorologie (INM) a annoncé des pluies éparses dans la région du Sahel, à partir de la soirée du lundi 19 février \\r\\n                                    ', 'date': '19/02/2024 '}\n",
            "2024-02-20 00:14:05 [scrapy.core.scraper] DEBUG: Scraped from <200 https://www.businessnews.com.tn/dernieres-news>\n",
            "{'titel': None, 'url': 'kais-saied-a-t-il-retabli-la-peine-de-mort,540,135796,3', 'description': '\\r\\n                                        Nous avons vérifié des sources officielles \\r\\n                                    ', 'date': '19/02/2024 '}\n",
            "2024-02-20 00:14:05 [scrapy.core.scraper] DEBUG: Scraped from <200 https://www.businessnews.com.tn/dernieres-news>\n",
            "{'titel': None, 'url': 'ahmed-chaftar--nous-devons-recuperer-largent-spolie-coute-que-coute-,520,135795,3', 'description': '\\r\\n                                        « Nous devons récupérer l’argent spolié, coûte que coûte ! » a déclaré, lundi 19 février 2024, Ahmed Chaftar membre de la campagne explicative du président de la \\r\\n                                    ', 'date': '19/02/2024 '}\n",
            "2024-02-20 00:14:05 [scrapy.core.scraper] DEBUG: Scraped from <200 https://www.businessnews.com.tn/dernieres-news>\n",
            "{'titel': None, 'url': 'face-aux-persecutions-le-pdl-compte-saisir-le-conseil-des-droits-de-lhomme-de-lonu,520,135793,3', 'description': '\\r\\n                                        Samedi dernier, le PDL a annoncé que sa manifestation avait été interdite sans motif.   \\r\\n                                    ', 'date': '19/02/2024 '}\n",
            "2024-02-20 00:14:05 [scrapy.core.engine] INFO: Closing spider (finished)\n",
            "2024-02-20 00:14:05 [scrapy.statscollectors] INFO: Dumping Scrapy stats:\n",
            "{'downloader/request_bytes': 472,\n",
            " 'downloader/request_count': 2,\n",
            " 'downloader/request_method_count/GET': 2,\n",
            " 'downloader/response_bytes': 15354,\n",
            " 'downloader/response_count': 2,\n",
            " 'downloader/response_status_count/200': 2,\n",
            " 'elapsed_time_seconds': 1.531231,\n",
            " 'finish_reason': 'finished',\n",
            " 'finish_time': datetime.datetime(2024, 2, 20, 0, 14, 5, 649104, tzinfo=datetime.timezone.utc),\n",
            " 'httpcompression/response_bytes': 86133,\n",
            " 'httpcompression/response_count': 1,\n",
            " 'item_scraped_count': 10,\n",
            " 'log_count/DEBUG': 15,\n",
            " 'log_count/INFO': 10,\n",
            " 'memusage/max': 204623872,\n",
            " 'memusage/startup': 204623872,\n",
            " 'response_received_count': 2,\n",
            " 'robotstxt/request_count': 1,\n",
            " 'robotstxt/response_count': 1,\n",
            " 'robotstxt/response_status_count/200': 1,\n",
            " 'scheduler/dequeued': 1,\n",
            " 'scheduler/dequeued/memory': 1,\n",
            " 'scheduler/enqueued': 1,\n",
            " 'scheduler/enqueued/memory': 1,\n",
            " 'start_time': datetime.datetime(2024, 2, 20, 0, 14, 4, 117873, tzinfo=datetime.timezone.utc)}\n",
            "2024-02-20 00:14:05 [scrapy.core.engine] INFO: Spider closed (finished)\n"
          ]
        }
      ]
    }
  ]
}