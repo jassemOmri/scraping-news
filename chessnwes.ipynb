{
  "nbformat": 4,
  "nbformat_minor": 0,
  "metadata": {
    "colab": {
      "provenance": []
    },
    "kernelspec": {
      "name": "python3",
      "display_name": "Python 3"
    },
    "language_info": {
      "name": "python"
    }
  },
  "cells": [
    {
      "cell_type": "code",
      "execution_count": null,
      "metadata": {
        "colab": {
          "base_uri": "https://localhost:8080/"
        },
        "id": "KYm1O689eT_Q",
        "outputId": "16b57b21-5693-48c1-92f0-3dde6f1e2a24"
      },
      "outputs": [
        {
          "output_type": "stream",
          "name": "stdout",
          "text": [
            "Collecting scrapy\n",
            "  Downloading Scrapy-2.11.1-py2.py3-none-any.whl (287 kB)\n",
            "\u001b[2K     \u001b[90m━━━━━━━━━━━━━━━━━━━━━━━━━━━━━━━━━━━━━━━━\u001b[0m \u001b[32m287.8/287.8 kB\u001b[0m \u001b[31m5.0 MB/s\u001b[0m eta \u001b[36m0:00:00\u001b[0m\n",
            "\u001b[?25hCollecting Twisted>=18.9.0 (from scrapy)\n",
            "  Downloading twisted-23.10.0-py3-none-any.whl (3.2 MB)\n",
            "\u001b[2K     \u001b[90m━━━━━━━━━━━━━━━━━━━━━━━━━━━━━━━━━━━━━━━━\u001b[0m \u001b[32m3.2/3.2 MB\u001b[0m \u001b[31m12.8 MB/s\u001b[0m eta \u001b[36m0:00:00\u001b[0m\n",
            "\u001b[?25hRequirement already satisfied: cryptography>=36.0.0 in /usr/local/lib/python3.10/dist-packages (from scrapy) (42.0.2)\n",
            "Collecting cssselect>=0.9.1 (from scrapy)\n",
            "  Downloading cssselect-1.2.0-py2.py3-none-any.whl (18 kB)\n",
            "Collecting itemloaders>=1.0.1 (from scrapy)\n",
            "  Downloading itemloaders-1.1.0-py3-none-any.whl (11 kB)\n",
            "Collecting parsel>=1.5.0 (from scrapy)\n",
            "  Downloading parsel-1.8.1-py2.py3-none-any.whl (17 kB)\n",
            "Requirement already satisfied: pyOpenSSL>=21.0.0 in /usr/local/lib/python3.10/dist-packages (from scrapy) (24.0.0)\n",
            "Collecting queuelib>=1.4.2 (from scrapy)\n",
            "  Downloading queuelib-1.6.2-py2.py3-none-any.whl (13 kB)\n",
            "Collecting service-identity>=18.1.0 (from scrapy)\n",
            "  Downloading service_identity-24.1.0-py3-none-any.whl (12 kB)\n",
            "Collecting w3lib>=1.17.0 (from scrapy)\n",
            "  Downloading w3lib-2.1.2-py3-none-any.whl (21 kB)\n",
            "Collecting zope.interface>=5.1.0 (from scrapy)\n",
            "  Downloading zope.interface-6.2-cp310-cp310-manylinux_2_5_x86_64.manylinux1_x86_64.manylinux_2_17_x86_64.manylinux2014_x86_64.whl (247 kB)\n",
            "\u001b[2K     \u001b[90m━━━━━━━━━━━━━━━━━━━━━━━━━━━━━━━━━━━━━━━━\u001b[0m \u001b[32m247.3/247.3 kB\u001b[0m \u001b[31m23.8 MB/s\u001b[0m eta \u001b[36m0:00:00\u001b[0m\n",
            "\u001b[?25hCollecting protego>=0.1.15 (from scrapy)\n",
            "  Downloading Protego-0.3.0-py2.py3-none-any.whl (8.5 kB)\n",
            "Collecting itemadapter>=0.1.0 (from scrapy)\n",
            "  Downloading itemadapter-0.8.0-py3-none-any.whl (11 kB)\n",
            "Requirement already satisfied: setuptools in /usr/local/lib/python3.10/dist-packages (from scrapy) (67.7.2)\n",
            "Requirement already satisfied: packaging in /usr/local/lib/python3.10/dist-packages (from scrapy) (23.2)\n",
            "Collecting tldextract (from scrapy)\n",
            "  Downloading tldextract-5.1.1-py3-none-any.whl (97 kB)\n",
            "\u001b[2K     \u001b[90m━━━━━━━━━━━━━━━━━━━━━━━━━━━━━━━━━━━━━━━━\u001b[0m \u001b[32m97.7/97.7 kB\u001b[0m \u001b[31m4.0 MB/s\u001b[0m eta \u001b[36m0:00:00\u001b[0m\n",
            "\u001b[?25hRequirement already satisfied: lxml>=4.4.1 in /usr/local/lib/python3.10/dist-packages (from scrapy) (4.9.4)\n",
            "Collecting PyDispatcher>=2.0.5 (from scrapy)\n",
            "  Downloading PyDispatcher-2.0.7-py3-none-any.whl (12 kB)\n",
            "Requirement already satisfied: cffi>=1.12 in /usr/local/lib/python3.10/dist-packages (from cryptography>=36.0.0->scrapy) (1.16.0)\n",
            "Collecting jmespath>=0.9.5 (from itemloaders>=1.0.1->scrapy)\n",
            "  Downloading jmespath-1.0.1-py3-none-any.whl (20 kB)\n",
            "Requirement already satisfied: attrs>=19.1.0 in /usr/local/lib/python3.10/dist-packages (from service-identity>=18.1.0->scrapy) (23.2.0)\n",
            "Requirement already satisfied: pyasn1 in /usr/local/lib/python3.10/dist-packages (from service-identity>=18.1.0->scrapy) (0.5.1)\n",
            "Requirement already satisfied: pyasn1-modules in /usr/local/lib/python3.10/dist-packages (from service-identity>=18.1.0->scrapy) (0.3.0)\n",
            "Collecting automat>=0.8.0 (from Twisted>=18.9.0->scrapy)\n",
            "  Downloading Automat-22.10.0-py2.py3-none-any.whl (26 kB)\n",
            "Collecting constantly>=15.1 (from Twisted>=18.9.0->scrapy)\n",
            "  Downloading constantly-23.10.4-py3-none-any.whl (13 kB)\n",
            "Collecting hyperlink>=17.1.1 (from Twisted>=18.9.0->scrapy)\n",
            "  Downloading hyperlink-21.0.0-py2.py3-none-any.whl (74 kB)\n",
            "\u001b[2K     \u001b[90m━━━━━━━━━━━━━━━━━━━━━━━━━━━━━━━━━━━━━━━━\u001b[0m \u001b[32m74.6/74.6 kB\u001b[0m \u001b[31m9.9 MB/s\u001b[0m eta \u001b[36m0:00:00\u001b[0m\n",
            "\u001b[?25hCollecting incremental>=22.10.0 (from Twisted>=18.9.0->scrapy)\n",
            "  Downloading incremental-22.10.0-py2.py3-none-any.whl (16 kB)\n",
            "Requirement already satisfied: typing-extensions>=4.2.0 in /usr/local/lib/python3.10/dist-packages (from Twisted>=18.9.0->scrapy) (4.9.0)\n",
            "Requirement already satisfied: idna in /usr/local/lib/python3.10/dist-packages (from tldextract->scrapy) (3.6)\n",
            "Requirement already satisfied: requests>=2.1.0 in /usr/local/lib/python3.10/dist-packages (from tldextract->scrapy) (2.31.0)\n",
            "Collecting requests-file>=1.4 (from tldextract->scrapy)\n",
            "  Downloading requests_file-2.0.0-py2.py3-none-any.whl (4.2 kB)\n",
            "Requirement already satisfied: filelock>=3.0.8 in /usr/local/lib/python3.10/dist-packages (from tldextract->scrapy) (3.13.1)\n",
            "Requirement already satisfied: six in /usr/local/lib/python3.10/dist-packages (from automat>=0.8.0->Twisted>=18.9.0->scrapy) (1.16.0)\n",
            "Requirement already satisfied: pycparser in /usr/local/lib/python3.10/dist-packages (from cffi>=1.12->cryptography>=36.0.0->scrapy) (2.21)\n",
            "Requirement already satisfied: charset-normalizer<4,>=2 in /usr/local/lib/python3.10/dist-packages (from requests>=2.1.0->tldextract->scrapy) (3.3.2)\n",
            "Requirement already satisfied: urllib3<3,>=1.21.1 in /usr/local/lib/python3.10/dist-packages (from requests>=2.1.0->tldextract->scrapy) (2.0.7)\n",
            "Requirement already satisfied: certifi>=2017.4.17 in /usr/local/lib/python3.10/dist-packages (from requests>=2.1.0->tldextract->scrapy) (2024.2.2)\n",
            "Installing collected packages: PyDispatcher, incremental, zope.interface, w3lib, queuelib, protego, jmespath, itemadapter, hyperlink, cssselect, constantly, automat, Twisted, requests-file, parsel, tldextract, service-identity, itemloaders, scrapy\n",
            "Successfully installed PyDispatcher-2.0.7 Twisted-23.10.0 automat-22.10.0 constantly-23.10.4 cssselect-1.2.0 hyperlink-21.0.0 incremental-22.10.0 itemadapter-0.8.0 itemloaders-1.1.0 jmespath-1.0.1 parsel-1.8.1 protego-0.3.0 queuelib-1.6.2 requests-file-2.0.0 scrapy-2.11.1 service-identity-24.1.0 tldextract-5.1.1 w3lib-2.1.2 zope.interface-6.2\n"
          ]
        }
      ],
      "source": [
        "!pip install scrapy"
      ]
    },
    {
      "cell_type": "code",
      "source": [
        "!scrapy startproject chess"
      ],
      "metadata": {
        "colab": {
          "base_uri": "https://localhost:8080/"
        },
        "id": "uSMd9EvVejgk",
        "outputId": "7dcf4452-9735-401b-8367-06bcc96ed74b"
      },
      "execution_count": null,
      "outputs": [
        {
          "output_type": "stream",
          "name": "stdout",
          "text": [
            "New Scrapy project 'chess', using template directory '/usr/local/lib/python3.10/dist-packages/scrapy/templates/project', created in:\n",
            "    /content/chess\n",
            "\n",
            "You can start your first spider with:\n",
            "    cd chess\n",
            "    scrapy genspider example example.com\n"
          ]
        }
      ]
    },
    {
      "cell_type": "code",
      "source": [
        "%cd /content/chess/chess/spiders"
      ],
      "metadata": {
        "colab": {
          "base_uri": "https://localhost:8080/"
        },
        "id": "dBmC7apleqRP",
        "outputId": "553180b2-7d87-465a-ef6c-31c9d4170b78"
      },
      "execution_count": null,
      "outputs": [
        {
          "output_type": "stream",
          "name": "stdout",
          "text": [
            "/content/chess/chess/spiders\n"
          ]
        }
      ]
    },
    {
      "cell_type": "code",
      "source": [
        "!scrapy genspider chessnews https://www.chess.com/news"
      ],
      "metadata": {
        "colab": {
          "base_uri": "https://localhost:8080/"
        },
        "id": "YeV2rmYAezXF",
        "outputId": "88f4dda2-1b8b-439a-87ad-28b48e072137"
      },
      "execution_count": null,
      "outputs": [
        {
          "output_type": "stream",
          "name": "stdout",
          "text": [
            "Created spider 'chessnews' using template 'basic' in module:\n",
            "  chess.spiders.chessnews\n"
          ]
        }
      ]
    },
    {
      "cell_type": "code",
      "source": [
        "%%writefile chessnews.py\n",
        "import scrapy\n",
        "class ChessnewsSpider(scrapy.Spider):\n",
        "    name = \"chessnews\"\n",
        "    allowed_domains = [\"www.chess.com\"]\n",
        "    start_urls = [\"https://www.chess.com/news\"]\n",
        "    def parse(self, response):\n",
        "        news=response.css('article.post-preview-component')\n",
        "        for n in news :\n",
        "          yield{\n",
        "                'titel' : n.css('h2 a::text').get(),\n",
        "                'url' : n.css('h2 a').attrib['href'],\n",
        "                'description' :n.css('p::text').get(),\n",
        "                  }\n",
        "\n"
      ],
      "metadata": {
        "colab": {
          "base_uri": "https://localhost:8080/"
        },
        "id": "PLTx_aN5e6lA",
        "outputId": "b35f1ae5-3091-4283-df61-75a1b75be140"
      },
      "execution_count": null,
      "outputs": [
        {
          "output_type": "stream",
          "name": "stdout",
          "text": [
            "Overwriting chessnews.py\n"
          ]
        }
      ]
    },
    {
      "cell_type": "code",
      "source": [
        "!scrapy crawl chessnews"
      ],
      "metadata": {
        "colab": {
          "base_uri": "https://localhost:8080/"
        },
        "id": "OtMUxp_IhXHt",
        "outputId": "10c14f0e-768c-4bc1-9bb9-a3e98fe2324d"
      },
      "execution_count": null,
      "outputs": [
        {
          "output_type": "stream",
          "name": "stdout",
          "text": [
            "2024-02-19 23:19:28 [scrapy.utils.log] INFO: Scrapy 2.11.1 started (bot: chess)\n",
            "2024-02-19 23:19:28 [scrapy.utils.log] INFO: Versions: lxml 4.9.4.0, libxml2 2.10.3, cssselect 1.2.0, parsel 1.8.1, w3lib 2.1.2, Twisted 23.10.0, Python 3.10.12 (main, Nov 20 2023, 15:14:05) [GCC 11.4.0], pyOpenSSL 24.0.0 (OpenSSL 3.2.1 30 Jan 2024), cryptography 42.0.2, Platform Linux-6.1.58+-x86_64-with-glibc2.35\n",
            "2024-02-19 23:19:28 [scrapy.addons] INFO: Enabled addons:\n",
            "[]\n",
            "2024-02-19 23:19:28 [asyncio] DEBUG: Using selector: EpollSelector\n",
            "2024-02-19 23:19:28 [scrapy.utils.log] DEBUG: Using reactor: twisted.internet.asyncioreactor.AsyncioSelectorReactor\n",
            "2024-02-19 23:19:28 [scrapy.utils.log] DEBUG: Using asyncio event loop: asyncio.unix_events._UnixSelectorEventLoop\n",
            "2024-02-19 23:19:28 [scrapy.extensions.telnet] INFO: Telnet Password: 05bf1a4334ea8871\n",
            "2024-02-19 23:19:28 [scrapy.middleware] INFO: Enabled extensions:\n",
            "['scrapy.extensions.corestats.CoreStats',\n",
            " 'scrapy.extensions.telnet.TelnetConsole',\n",
            " 'scrapy.extensions.memusage.MemoryUsage',\n",
            " 'scrapy.extensions.logstats.LogStats']\n",
            "2024-02-19 23:19:28 [scrapy.crawler] INFO: Overridden settings:\n",
            "{'BOT_NAME': 'chess',\n",
            " 'FEED_EXPORT_ENCODING': 'utf-8',\n",
            " 'NEWSPIDER_MODULE': 'chess.spiders',\n",
            " 'REQUEST_FINGERPRINTER_IMPLEMENTATION': '2.7',\n",
            " 'ROBOTSTXT_OBEY': True,\n",
            " 'SPIDER_MODULES': ['chess.spiders'],\n",
            " 'TWISTED_REACTOR': 'twisted.internet.asyncioreactor.AsyncioSelectorReactor'}\n",
            "2024-02-19 23:19:28 [scrapy.middleware] INFO: Enabled downloader middlewares:\n",
            "['scrapy.downloadermiddlewares.robotstxt.RobotsTxtMiddleware',\n",
            " 'scrapy.downloadermiddlewares.httpauth.HttpAuthMiddleware',\n",
            " 'scrapy.downloadermiddlewares.downloadtimeout.DownloadTimeoutMiddleware',\n",
            " 'scrapy.downloadermiddlewares.defaultheaders.DefaultHeadersMiddleware',\n",
            " 'scrapy.downloadermiddlewares.useragent.UserAgentMiddleware',\n",
            " 'scrapy.downloadermiddlewares.retry.RetryMiddleware',\n",
            " 'scrapy.downloadermiddlewares.redirect.MetaRefreshMiddleware',\n",
            " 'scrapy.downloadermiddlewares.httpcompression.HttpCompressionMiddleware',\n",
            " 'scrapy.downloadermiddlewares.redirect.RedirectMiddleware',\n",
            " 'scrapy.downloadermiddlewares.cookies.CookiesMiddleware',\n",
            " 'scrapy.downloadermiddlewares.httpproxy.HttpProxyMiddleware',\n",
            " 'scrapy.downloadermiddlewares.stats.DownloaderStats']\n",
            "2024-02-19 23:19:28 [scrapy.middleware] INFO: Enabled spider middlewares:\n",
            "['scrapy.spidermiddlewares.httperror.HttpErrorMiddleware',\n",
            " 'scrapy.spidermiddlewares.offsite.OffsiteMiddleware',\n",
            " 'scrapy.spidermiddlewares.referer.RefererMiddleware',\n",
            " 'scrapy.spidermiddlewares.urllength.UrlLengthMiddleware',\n",
            " 'scrapy.spidermiddlewares.depth.DepthMiddleware']\n",
            "2024-02-19 23:19:28 [scrapy.middleware] INFO: Enabled item pipelines:\n",
            "[]\n",
            "2024-02-19 23:19:28 [scrapy.core.engine] INFO: Spider opened\n",
            "2024-02-19 23:19:28 [scrapy.extensions.logstats] INFO: Crawled 0 pages (at 0 pages/min), scraped 0 items (at 0 items/min)\n",
            "2024-02-19 23:19:28 [scrapy.extensions.telnet] INFO: Telnet console listening on 127.0.0.1:6023\n",
            "2024-02-19 23:19:29 [scrapy.core.engine] DEBUG: Crawled (200) <GET https://www.chess.com/robots.txt> (referer: None)\n",
            "2024-02-19 23:19:29 [scrapy.core.engine] DEBUG: Crawled (200) <GET https://www.chess.com/news> (referer: None)\n",
            "2024-02-19 23:19:29 [scrapy.core.scraper] DEBUG: Scraped from <200 https://www.chess.com/news>\n",
            "{'titel': '\\n\\n                    8-Year-Old Ashwath Beats Chess Grandmaster, Sets New World Record\\n                  ', 'url': 'https://www.chess.com/news/view/8-year-old-ashwath-kaushik-beats-chess-grandmaster-sets-new-record', 'description': '\\n                  On Sunday, eight-year-old Ashwath Kaushik from Singapore smashed the record to become the youngest player ever to defeat a grandmaster in classical chess. \\r\\nJust a month prior Leonid Ivanovic from Serbia dethroned GM Awonder Liang to become the fi...\\n                '}\n",
            "2024-02-19 23:19:29 [scrapy.core.scraper] DEBUG: Scraped from <200 https://www.chess.com/news>\n",
            "{'titel': '\\n\\n                    Webster Extends Winning Streak, Dallas Grows Comeback\\n                  ', 'url': 'https://www.chess.com/news/view/2024-collegiate-chess-league-spring-webster-dallas', 'description': '\\n                  Webster won their fourth match in a row while Dallas continued their comeback in week four of the 2024 Collegiate Chess League (CCL).\\xa0 \\r\\nWith a perfect 4/4, IM Anna Sargsyan led Webster to victory vs. Prague. For Dallas, it was IM Andrei Maco...\\n                '}\n",
            "2024-02-19 23:19:29 [scrapy.core.scraper] DEBUG: Scraped from <200 https://www.chess.com/news>\n",
            "{'titel': \"\\n\\n                    Nakamura 'Bebops' To 19th Bullet Brawl Title\\n                  \", 'url': 'https://www.chess.com/news/view/hikaru-nakamura-wins-bullet-brawl-february-17-2024', 'description': '\\n                  The king of Bullet Brawl, GM Hikaru Nakamura, has claimed his 19th title and $400 after a dominant performance during the latest edition, finishing 59 points ahead of the second- and third-placed players, GMs Oleksandr Bortnyk and Arjun Erigaisi, ...\\n                '}\n",
            "2024-02-19 23:19:29 [scrapy.core.scraper] DEBUG: Scraped from <200 https://www.chess.com/news>\n",
            "{'titel': '\\n\\n                    9 Things We Learned — Freestyle Chess G.O.A.T. Challenge 2024\\n                  ', 'url': 'https://www.chess.com/news/view/9-things-we-learned-2024-freestyle-chess-goat-challenge', 'description': '\\n                  World number-one Magnus Carlsen enhanced his claim to be the greatest of all time Friday as he won the 2024 Freestyle Chess G.O.A.T. Challenge by defeating world number-two Fabiano Caruana in the final match. We take a look at what else we learned...\\n                '}\n",
            "2024-02-19 23:19:29 [scrapy.core.scraper] DEBUG: Scraped from <200 https://www.chess.com/news>\n",
            "{'titel': '\\n\\n                    Carlsen Beats Caruana To Win Freestyle Chess G.O.A.T. Challenge\\n                  ', 'url': 'https://www.chess.com/news/view/2024-freestyle-chess-goat-challenge-day-8', 'description': '\\n                  World number-one Magnus Carlsen defeated GM Fabiano Caruana in the final classical game to win the inaugural 2024 Freestyle Chess G.O.A.T. Challenge and the $60,000 top prize. GM Levon Aronian took third place with a powerful win over GM Nodirbek ...\\n                '}\n",
            "2024-02-19 23:19:29 [scrapy.core.scraper] DEBUG: Scraped from <200 https://www.chess.com/news>\n",
            "{'titel': \"\\n\\n                    National Master Halts GM Martinez's Reign In Crazyhouse Championship\\n                  \", 'url': 'https://www.chess.com/news/view/2024-vcs-crazyhouse-wang-wins', 'description': '\\n                  NM Jalen Wang was victorious in the Variants Community Series (VCS) Crazyhouse Championship on Thursday and took home $1,000 for winning the Final. \\r\\nFM Roee Aroesti made $750 for second place, while NM Isaac Chiu and Patrik Nystrom earned $500 ea...\\n                '}\n",
            "2024-02-19 23:19:29 [scrapy.core.scraper] DEBUG: Scraped from <200 https://www.chess.com/news>\n",
            "{'titel': '\\n\\n                    Team Chess Battle: The Star-Studded New 2v2 Tournament With Nakamura, Giri, GothamChess, And… Jan Gustafsson\\n                  ', 'url': 'https://www.chess.com/news/view/team-chess-battle-with-nakamura-giri-gothamchess', 'description': '\\n                  Chess.com is excited to announce the launch of Team Chess Battle—a new tournament that brings banter, chat, and great games from some of the best in the business. \\r\\nWhat makes this event different? It’s a 2v2 team tournament where the ...\\n                '}\n",
            "2024-02-19 23:19:29 [scrapy.core.scraper] DEBUG: Scraped from <200 https://www.chess.com/news>\n",
            "{'titel': '\\n\\n                    Carlsen-Caruana Final Starts With Draw As Firouzja, Keymer Win\\n                  ', 'url': 'https://www.chess.com/news/view/2024-freestyle-chess-goat-challenge-day-7', 'description': '\\n                  World number-one Magnus Carlsen missed a chance for more as he made a draw with Black against GM Fabiano Caruana in game one of the 2024 Freestyle Chess G.O.A.T. Challenge Final. GM Levon Aronian found a miracle escape against\\xa0GM Nodirbek Abd...\\n                '}\n",
            "2024-02-19 23:19:29 [scrapy.core.scraper] DEBUG: Scraped from <200 https://www.chess.com/news>\n",
            "{'titel': '\\n\\n                    Caruana Blunders 2 Rooks But Still Sets Up Carlsen Final\\n                  ', 'url': 'https://www.chess.com/news/view/2024-freestyle-chess-goat-challenge-day-6', 'description': \"\\n                  They may be playing Chess960 instead of regular chess, but it's world number-one Magnus Carlsen and number-two Fabiano Caruana who will contest the Final of the 2024 Freestyle Chess G.O.A.T. Challenge after Carlsen eased past GM Nodirbek Abdusatto...\\n                \"}\n",
            "2024-02-19 23:19:29 [scrapy.core.scraper] DEBUG: Scraped from <200 https://www.chess.com/news>\n",
            "{'titel': '\\n\\n                    Nakamura Becomes First To Break 3400 In Blitz On Chess.com\\n                  ', 'url': 'https://www.chess.com/news/view/nakamura-becomes-first-to-break-3400-on-chess-com', 'description': '\\n                  GM Hikaru Nakamura recently extended his record on Chess.com to become the first player ever to break 3400 in blitz. His new high of 3405 is 28 points higher than number two on the list, GM Magnus Carlsen. \\r\\nThe electrifying online blitz rivalry b...\\n                '}\n",
            "2024-02-19 23:19:29 [scrapy.core.scraper] DEBUG: Scraped from <200 https://www.chess.com/news>\n",
            "{'titel': '\\n\\n                    Candidates Win On Tuesday\\n                  ', 'url': 'https://www.chess.com/news/view/duda-alekseenko-win-titled-tuesday-february-13-2024', 'description': '\\n                  GM Jan-Krzysztof Duda and GM Kirill Alekseenko, two former world championship candidates, emerged from tied standings to win Titled Tuesday on February 13. Duda needed to overcome four other players in tiebreaks, while Alekseenko only had to outsc...\\n                '}\n",
            "2024-02-19 23:19:29 [scrapy.core.scraper] DEBUG: Scraped from <200 https://www.chess.com/news>\n",
            "{'titel': '\\n\\n                    Cleveland Guardians Step Up To The Plate For SlugChamps—The First Baseball Stars Chess Tournament\\n                  ', 'url': 'https://www.chess.com/news/view/cleveland-guardians-step-up-to-the-plate-for-slugchamps', 'description': '\\n                  Chess.com is ready to knock it outta the park again with the launch of a new tournament featuring stars from the Cleveland Guardians Major League Baseball team. \\r\\nSlugChamps: Guardians Chess Club will pit eight teammates from one of America’...\\n                '}\n",
            "2024-02-19 23:19:29 [scrapy.core.scraper] DEBUG: Scraped from <200 https://www.chess.com/news>\n",
            "{'titel': '\\n\\n                    Carlsen, Aronian With One Foot In Freestyle Chess Final\\n                  ', 'url': 'https://www.chess.com/news/view/2024-freestyle-chess-goat-challenge-day-5', 'description': '\\n                  GM Magnus Carlsen won what he described as \"a very interesting, strategic game\" to take the lead against GM Nodirbek Abdusattorov in the 2024 Freestyle Chess G.O.A.T. Challenge Semifinals. GM Levon Aronian also left GM Fabiano Caruana needing to w...\\n                '}\n",
            "2024-02-19 23:19:29 [scrapy.core.scraper] DEBUG: Scraped from <200 https://www.chess.com/news>\n",
            "{'titel': '\\n\\n                    Caruana, So, Krush, And Lee Headline 2024 American Cup\\n                  ', 'url': 'https://www.chess.com/news/view/caruana-so-krush-and-lee-headline-2024-american-cup', 'description': '\\n                  The Saint Louis Chess Club has announced its lineup for this year’s American Cup boasting \"16 of the strongest chess players in America.\" \\r\\nEight GMs are on the roster for the $250,000 Open section headed by U.S. number-one GM Fabiano Caruan...\\n                '}\n",
            "2024-02-19 23:19:29 [scrapy.core.scraper] DEBUG: Scraped from <200 https://www.chess.com/news>\n",
            "{'titel': '\\n\\n                    Carlsen Storms Back To Join Abdusattorov, Caruana, Aronian In Semis\\n                  ', 'url': 'https://www.chess.com/news/view/2024-freestyle-chess-goat-challenge-day-4', 'description': '\\n                  World number-one Magnus Carlsen hit back with three wins to beat GM Alireza Firouzja and book a 2024 Freestyle Chess G.O.A.T. Challenge Semifinal against GM Nodirbek Abdusattorov, who eased past GM Ding Liren. It was the day the \"veterans\" struck ...\\n                '}\n",
            "2024-02-19 23:19:29 [scrapy.core.scraper] DEBUG: Scraped from <200 https://www.chess.com/news>\n",
            "{'titel': '\\n\\n                    Carlsen, Ding Defeated In First Classical Chess960 Games\\n                  ', 'url': 'https://www.chess.com/news/view/2024-freestyle-chess-goat-challenge-day-3', 'description': '\\n                  World Champion Ding Liren and world number-one Magnus Carlsen both have to hit back on Monday to keep alive hopes of winning the 2024 Freestyle Chess G.O.A.T. Challenge after they erred in the opening and were put to the sword by GMs Nodirbek Abdu...\\n                '}\n",
            "2024-02-19 23:19:29 [scrapy.core.scraper] DEBUG: Scraped from <200 https://www.chess.com/news>\n",
            "{'titel': '\\n\\n                    Perfect Scores By Harsha, Bok Lead Webster, Saint Louis To The Top\\n                  ', 'url': 'https://www.chess.com/news/view/2024-collegiate-chess-league-spring-slu-webster', 'description': '\\n                  The top of the scoreboard has narrowed to just two teams, Webster and Saint Louis, in week three of the 2024 Collegiate Chess League (CCL).\\xa0 \\r\\nGM Benjamin Bok turned in his second 4/4 score of the season to lead Saint Louis University to anot...\\n                '}\n",
            "2024-02-19 23:19:29 [scrapy.core.scraper] DEBUG: Scraped from <200 https://www.chess.com/news>\n",
            "{'titel': '\\n\\n                    Abdusattorov Beats Carlsen To Win Rapid, Plays Ding In Quarterfinals\\n                  ', 'url': 'https://www.chess.com/news/view/2024-freestyle-chess-goat-challenge-day-2', 'description': '\\n                  GM Nodirbek Abdusattorov beat GM Magnus Carlsen in the final round of the 2024 Freestyle Chess G.O.A.T. Challenge Rapid to top the standings with an unbeaten 5.5/7. That set up a Quarterfinal against World Champion Ding Liren, who made a last-roun...\\n                '}\n",
            "2024-02-19 23:19:29 [scrapy.core.scraper] DEBUG: Scraped from <200 https://www.chess.com/news>\n",
            "{'titel': '\\n\\n                    Nakamura Shatters Bullet Brawl Record With 82.5/84 Score\\n                  ', 'url': 'https://www.chess.com/news/view/hikaru-nakamura-wins-bullet-brawl-february-10-2024', 'description': \"\\n                  Bullet Brawl records fell on Saturday after Chess.com's highest-rated bullet and blitz chess player, GM Hikaru Nakamura, swept through the field and amassed a score of 320. With 82 wins, one draw, and one loss to his name, only Peru's IM Renato Te...\\n                \"}\n",
            "2024-02-19 23:19:29 [scrapy.core.scraper] DEBUG: Scraped from <200 https://www.chess.com/news>\n",
            "{'titel': '\\n\\n                    Gukesh Beats Carlsen As Keymer Takes Early Freestyle Chess Lead\\n                  ', 'url': 'https://www.chess.com/news/view/2024-freestyle-chess-goat-challenge-day-1', 'description': '\\n                  GM Dommaraju Gukesh beat the GOAT, GM Magnus Carlsen, after whom the 2024 Freestyle Chess G.O.A.T. Challenge is named, as a new Chess960 super-tournament began in Germany. He also took down World Champion Ding Liren, who lost all four games, while...\\n                '}\n",
            "2024-02-19 23:19:29 [scrapy.core.scraper] DEBUG: Scraped from <200 https://www.chess.com/news>\n",
            "{'titel': '\\n\\n                    Botez Sisters, GothamChess, & Other Chess Celebrities Join The ChessKid National Festival\\n                  ', 'url': 'https://www.chess.com/news/view/botez-sisters-gothamchess-join-chesskid-national-festival', 'description': \"\\n                  The inaugural ChessKid National Festival is only a week away, and some of the chess world's most famous names are getting ready to descend on Charlotte, North Carolina to join the festivities. \\r\\nTickets for the ChessKid National Festival are still...\\n                \"}\n",
            "2024-02-19 23:19:29 [scrapy.core.scraper] DEBUG: Scraped from <200 https://www.chess.com/news>\n",
            "{'titel': '\\n\\n                    5 Things We Learned — Chessable Masters 2024\\n                  ', 'url': 'https://www.chess.com/news/view/5-things-we-learned-2024-cct-chessable-masters', 'description': \"\\n                  The first event of the 2024 Champions Chess Tour, the 2024 Chessable Masters, is in the books, and plenty has happened in the tournament that lasted eight days. \\r\\nSome things aren't new, like the fact that GM Magnus Carlsen won again. But plenty i...\\n                \"}\n",
            "2024-02-19 23:19:29 [scrapy.core.scraper] DEBUG: Scraped from <200 https://www.chess.com/news>\n",
            "{'titel': '\\n\\n                    Carlsen Wins 2024 Chessable Masters\\n                  ', 'url': 'https://www.chess.com/news/view/2024-cct-chessable-masters-day-8-carlsen-wins', 'description': '\\n                  GM Magnus Carlsen won Division I of the 2024 Champions Chess Tour Chessable Masters on Wednesday. GM Alireza Firouzja took the first set of the Grand Final, impressively winning the first two games in a row, but the world number-one struck back in...\\n                '}\n",
            "2024-02-19 23:19:29 [scrapy.core.scraper] DEBUG: Scraped from <200 https://www.chess.com/news>\n",
            "{'titel': '\\n\\n                    Nakamura Extends Titled Cup Lead\\n                  ', 'url': 'https://www.chess.com/news/view/piorun-nakamura-win-titled-tuesday-february-6-2024', 'description': '\\n                  GM Hikaru Nakamura continued his hot start to the year in Titled Tuesday on February 6, finishing third in the early tournament and winning the late tournament, his third win of 2024. The early event was won by Polish GM Kacper Piorun. Both he and...\\n                '}\n",
            "2024-02-19 23:19:29 [scrapy.core.scraper] DEBUG: Scraped from <200 https://www.chess.com/news>\n",
            "{'titel': '\\n\\n                    Youngsters Shine: Keymer Wins Division II, Sarana Takes Division III\\n                  ', 'url': 'https://www.chess.com/news/view/2024-cct-chessable-masters-day-7-keymer-sarana-win', 'description': '\\n                  Day seven of the 2024 Champions Chess Tour Chessable Masters saw the conclusions of Divisions II and III. Although both matches went to the second set, the younger players won in each division. \\r\\nGM Vincent Keymer defeated GM Levon Aronian in Divi...\\n                '}\n",
            "2024-02-19 23:19:29 [scrapy.core.engine] INFO: Closing spider (finished)\n",
            "2024-02-19 23:19:29 [scrapy.statscollectors] INFO: Dumping Scrapy stats:\n",
            "{'downloader/request_bytes': 627,\n",
            " 'downloader/request_count': 2,\n",
            " 'downloader/request_method_count/GET': 2,\n",
            " 'downloader/response_bytes': 24702,\n",
            " 'downloader/response_count': 2,\n",
            " 'downloader/response_status_count/200': 2,\n",
            " 'elapsed_time_seconds': 0.762578,\n",
            " 'finish_reason': 'finished',\n",
            " 'finish_time': datetime.datetime(2024, 2, 19, 23, 19, 29, 737498, tzinfo=datetime.timezone.utc),\n",
            " 'httpcompression/response_bytes': 123409,\n",
            " 'httpcompression/response_count': 2,\n",
            " 'item_scraped_count': 25,\n",
            " 'log_count/DEBUG': 30,\n",
            " 'log_count/INFO': 10,\n",
            " 'memusage/max': 113922048,\n",
            " 'memusage/startup': 113922048,\n",
            " 'response_received_count': 2,\n",
            " 'robotstxt/request_count': 1,\n",
            " 'robotstxt/response_count': 1,\n",
            " 'robotstxt/response_status_count/200': 1,\n",
            " 'scheduler/dequeued': 1,\n",
            " 'scheduler/dequeued/memory': 1,\n",
            " 'scheduler/enqueued': 1,\n",
            " 'scheduler/enqueued/memory': 1,\n",
            " 'start_time': datetime.datetime(2024, 2, 19, 23, 19, 28, 974920, tzinfo=datetime.timezone.utc)}\n",
            "2024-02-19 23:19:29 [scrapy.core.engine] INFO: Spider closed (finished)\n"
          ]
        }
      ]
    }
  ]
}